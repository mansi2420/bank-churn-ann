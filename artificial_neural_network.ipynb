{
 "cells": [
  {
   "cell_type": "code",
   "execution_count": 67,
   "metadata": {},
   "outputs": [],
   "source": [
    "import numpy as np\n",
    "import pandas as pd\n",
    "import tensorflow as tf"
   ]
  },
  {
   "cell_type": "code",
   "execution_count": 68,
   "metadata": {},
   "outputs": [
    {
     "data": {
      "text/plain": [
       "'2.4.0'"
      ]
     },
     "execution_count": 68,
     "metadata": {},
     "output_type": "execute_result"
    }
   ],
   "source": [
    "tf.__version__"
   ]
  },
  {
   "cell_type": "code",
   "execution_count": 69,
   "metadata": {},
   "outputs": [],
   "source": [
    "dataset= pd.read_csv(r\"C:\\Users\\Mansi Panchal\\Desktop\\py\\ANN model\\Churn_Modelling.csv\")\n",
    "x= dataset.iloc[:, 3:-1].values # will take column 4th to second last\n",
    "y= dataset.iloc[:, -1].values"
   ]
  },
  {
   "cell_type": "code",
   "execution_count": 70,
   "metadata": {},
   "outputs": [
    {
     "data": {
      "text/plain": [
       "array([[619, 'France', 'Female', ..., 1, 1, 101348.88],\n",
       "       [608, 'Spain', 'Female', ..., 0, 1, 112542.58],\n",
       "       [502, 'France', 'Female', ..., 1, 0, 113931.57],\n",
       "       ...,\n",
       "       [709, 'France', 'Female', ..., 0, 1, 42085.58],\n",
       "       [772, 'Germany', 'Male', ..., 1, 0, 92888.52],\n",
       "       [792, 'France', 'Female', ..., 1, 0, 38190.78]], dtype=object)"
      ]
     },
     "execution_count": 70,
     "metadata": {},
     "output_type": "execute_result"
    }
   ],
   "source": [
    "x"
   ]
  },
  {
   "cell_type": "code",
   "execution_count": 71,
   "metadata": {},
   "outputs": [
    {
     "data": {
      "text/plain": [
       "array([1, 0, 1, ..., 1, 1, 0], dtype=int64)"
      ]
     },
     "execution_count": 71,
     "metadata": {},
     "output_type": "execute_result"
    }
   ],
   "source": [
    "y"
   ]
  },
  {
   "cell_type": "code",
   "execution_count": 72,
   "metadata": {},
   "outputs": [],
   "source": [
    "from sklearn.preprocessing import LabelEncoder\n",
    "le= LabelEncoder()\n",
    "x[:,2]= le.fit_transform(x[:,2])"
   ]
  },
  {
   "cell_type": "code",
   "execution_count": 73,
   "metadata": {},
   "outputs": [
    {
     "data": {
      "text/plain": [
       "array([[619, 'France', 0, ..., 1, 1, 101348.88],\n",
       "       [608, 'Spain', 0, ..., 0, 1, 112542.58],\n",
       "       [502, 'France', 0, ..., 1, 0, 113931.57],\n",
       "       ...,\n",
       "       [709, 'France', 0, ..., 0, 1, 42085.58],\n",
       "       [772, 'Germany', 1, ..., 1, 0, 92888.52],\n",
       "       [792, 'France', 0, ..., 1, 0, 38190.78]], dtype=object)"
      ]
     },
     "execution_count": 73,
     "metadata": {},
     "output_type": "execute_result"
    }
   ],
   "source": [
    "x"
   ]
  },
  {
   "cell_type": "code",
   "execution_count": 74,
   "metadata": {},
   "outputs": [],
   "source": [
    "from sklearn.compose import ColumnTransformer\n",
    "from sklearn.preprocessing import OneHotEncoder\n",
    "ct= ColumnTransformer(transformers=[(\"encoder\",OneHotEncoder(),[1])],remainder=\"passthrough\")\n",
    "x=np.array(ct.fit_transform(x))"
   ]
  },
  {
   "cell_type": "code",
   "execution_count": 17,
   "metadata": {},
   "outputs": [
    {
     "data": {
      "text/plain": [
       "array([[1.0, 0.0, 1.0, ..., 1, 1, 101348.88],\n",
       "       [1.0, 0.0, 0.0, ..., 0, 1, 112542.58],\n",
       "       [1.0, 0.0, 1.0, ..., 1, 0, 113931.57],\n",
       "       ...,\n",
       "       [1.0, 0.0, 1.0, ..., 0, 1, 42085.58],\n",
       "       [0.0, 1.0, 0.0, ..., 1, 0, 92888.52],\n",
       "       [1.0, 0.0, 1.0, ..., 1, 0, 38190.78]], dtype=object)"
      ]
     },
     "execution_count": 17,
     "metadata": {},
     "output_type": "execute_result"
    }
   ],
   "source": [
    "x"
   ]
  },
  {
   "cell_type": "markdown",
   "metadata": {},
   "source": [
    "### Train Test Split"
   ]
  },
  {
   "cell_type": "code",
   "execution_count": 75,
   "metadata": {},
   "outputs": [],
   "source": [
    "from sklearn.model_selection import train_test_split\n",
    "x_train,x_test,y_train,y_test=train_test_split(x,y,test_size=0.5,random_state=0)"
   ]
  },
  {
   "cell_type": "markdown",
   "metadata": {},
   "source": [
    "### Feature Scaling"
   ]
  },
  {
   "cell_type": "code",
   "execution_count": 76,
   "metadata": {},
   "outputs": [],
   "source": [
    "from sklearn.preprocessing import StandardScaler\n",
    "sc=StandardScaler()\n",
    "x_train=sc.fit_transform(x_train)\n",
    "x_test=sc.transform(x_test)"
   ]
  },
  {
   "cell_type": "code",
   "execution_count": 77,
   "metadata": {},
   "outputs": [],
   "source": [
    "ann= tf.keras.models.Sequential()"
   ]
  },
  {
   "cell_type": "code",
   "execution_count": 78,
   "metadata": {},
   "outputs": [],
   "source": [
    "ann.add(tf.keras.layers.Dense(units=6,activation=\"relu\")) #input layer and first hidden layer"
   ]
  },
  {
   "cell_type": "code",
   "execution_count": 79,
   "metadata": {},
   "outputs": [],
   "source": [
    "ann.add(tf.keras.layers.Dense(units=6,activation=\"relu\")) #second hidden layer"
   ]
  },
  {
   "cell_type": "code",
   "execution_count": 80,
   "metadata": {},
   "outputs": [],
   "source": [
    "ann.add(tf.keras.layers.Dense(units=1,activation=\"sigmoid\")) #output layer"
   ]
  },
  {
   "cell_type": "markdown",
   "metadata": {},
   "source": [
    "### Training the ANN"
   ]
  },
  {
   "cell_type": "code",
   "execution_count": 81,
   "metadata": {},
   "outputs": [],
   "source": [
    "ann.compile(optimizer= \"adam\",loss= \"binary_crossentropy\",metrics=[\"accuracy\"])"
   ]
  },
  {
   "cell_type": "code",
   "execution_count": 82,
   "metadata": {},
   "outputs": [
    {
     "name": "stdout",
     "output_type": "stream",
     "text": [
      "Epoch 1/100\n",
      "157/157 [==============================] - 1s 722us/step - loss: 0.7720 - accuracy: 0.4250\n",
      "Epoch 2/100\n",
      "157/157 [==============================] - 0s 706us/step - loss: 0.5048 - accuracy: 0.7943\n",
      "Epoch 3/100\n",
      "157/157 [==============================] - 0s 588us/step - loss: 0.4634 - accuracy: 0.7983\n",
      "Epoch 4/100\n",
      "157/157 [==============================] - 0s 633us/step - loss: 0.4406 - accuracy: 0.8052\n",
      "Epoch 5/100\n",
      "157/157 [==============================] - 0s 594us/step - loss: 0.4428 - accuracy: 0.7924\n",
      "Epoch 6/100\n",
      "157/157 [==============================] - 0s 743us/step - loss: 0.4172 - accuracy: 0.8075\n",
      "Epoch 7/100\n",
      "157/157 [==============================] - 0s 660us/step - loss: 0.4074 - accuracy: 0.8157\n",
      "Epoch 8/100\n",
      "157/157 [==============================] - 0s 754us/step - loss: 0.4192 - accuracy: 0.8181\n",
      "Epoch 9/100\n",
      "157/157 [==============================] - 0s 630us/step - loss: 0.4178 - accuracy: 0.8151\n",
      "Epoch 10/100\n",
      "157/157 [==============================] - 0s 563us/step - loss: 0.3881 - accuracy: 0.8357\n",
      "Epoch 11/100\n",
      "157/157 [==============================] - 0s 557us/step - loss: 0.3914 - accuracy: 0.8276\n",
      "Epoch 12/100\n",
      "157/157 [==============================] - 0s 582us/step - loss: 0.3947 - accuracy: 0.8348\n",
      "Epoch 13/100\n",
      "157/157 [==============================] - 0s 591us/step - loss: 0.3796 - accuracy: 0.8377\n",
      "Epoch 14/100\n",
      "157/157 [==============================] - 0s 658us/step - loss: 0.3863 - accuracy: 0.8356\n",
      "Epoch 15/100\n",
      "157/157 [==============================] - 0s 575us/step - loss: 0.3659 - accuracy: 0.8450\n",
      "Epoch 16/100\n",
      "157/157 [==============================] - 0s 575us/step - loss: 0.3613 - accuracy: 0.8504\n",
      "Epoch 17/100\n",
      "157/157 [==============================] - 0s 576us/step - loss: 0.3846 - accuracy: 0.8361\n",
      "Epoch 18/100\n",
      "157/157 [==============================] - 0s 588us/step - loss: 0.3658 - accuracy: 0.8440\n",
      "Epoch 19/100\n",
      "157/157 [==============================] - 0s 595us/step - loss: 0.3643 - accuracy: 0.8499\n",
      "Epoch 20/100\n",
      "157/157 [==============================] - 0s 645us/step - loss: 0.3734 - accuracy: 0.8422\n",
      "Epoch 21/100\n",
      "157/157 [==============================] - 0s 710us/step - loss: 0.3607 - accuracy: 0.8481\n",
      "Epoch 22/100\n",
      "157/157 [==============================] - 0s 806us/step - loss: 0.3716 - accuracy: 0.8505\n",
      "Epoch 23/100\n",
      "157/157 [==============================] - 0s 767us/step - loss: 0.3414 - accuracy: 0.8579\n",
      "Epoch 24/100\n",
      "157/157 [==============================] - 0s 716us/step - loss: 0.3722 - accuracy: 0.8482\n",
      "Epoch 25/100\n",
      "157/157 [==============================] - 0s 556us/step - loss: 0.3697 - accuracy: 0.8483\n",
      "Epoch 26/100\n",
      "157/157 [==============================] - 0s 571us/step - loss: 0.3487 - accuracy: 0.8580\n",
      "Epoch 27/100\n",
      "157/157 [==============================] - 0s 603us/step - loss: 0.3624 - accuracy: 0.8539\n",
      "Epoch 28/100\n",
      "157/157 [==============================] - 0s 599us/step - loss: 0.3435 - accuracy: 0.8646\n",
      "Epoch 29/100\n",
      "157/157 [==============================] - 0s 575us/step - loss: 0.3450 - accuracy: 0.8555\n",
      "Epoch 30/100\n",
      "157/157 [==============================] - 0s 620us/step - loss: 0.3564 - accuracy: 0.8525\n",
      "Epoch 31/100\n",
      "157/157 [==============================] - 0s 603us/step - loss: 0.3415 - accuracy: 0.8618\n",
      "Epoch 32/100\n",
      "157/157 [==============================] - 0s 563us/step - loss: 0.3663 - accuracy: 0.8543\n",
      "Epoch 33/100\n",
      "157/157 [==============================] - 0s 564us/step - loss: 0.3584 - accuracy: 0.8529\n",
      "Epoch 34/100\n",
      "157/157 [==============================] - 0s 657us/step - loss: 0.3462 - accuracy: 0.8585\n",
      "Epoch 35/100\n",
      "157/157 [==============================] - 0s 566us/step - loss: 0.3436 - accuracy: 0.8710\n",
      "Epoch 36/100\n",
      "157/157 [==============================] - 0s 582us/step - loss: 0.3451 - accuracy: 0.8608\n",
      "Epoch 37/100\n",
      "157/157 [==============================] - 0s 627us/step - loss: 0.3375 - accuracy: 0.8666\n",
      "Epoch 38/100\n",
      "157/157 [==============================] - 0s 614us/step - loss: 0.3606 - accuracy: 0.8519\n",
      "Epoch 39/100\n",
      "157/157 [==============================] - 0s 601us/step - loss: 0.3386 - accuracy: 0.8631\n",
      "Epoch 40/100\n",
      "157/157 [==============================] - 0s 825us/step - loss: 0.3460 - accuracy: 0.8608\n",
      "Epoch 41/100\n",
      "157/157 [==============================] - 0s 774us/step - loss: 0.3383 - accuracy: 0.8687\n",
      "Epoch 42/100\n",
      "157/157 [==============================] - 0s 633us/step - loss: 0.3470 - accuracy: 0.8642\n",
      "Epoch 43/100\n",
      "157/157 [==============================] - 0s 607us/step - loss: 0.3382 - accuracy: 0.8646\n",
      "Epoch 44/100\n",
      "157/157 [==============================] - 0s 746us/step - loss: 0.3414 - accuracy: 0.8640\n",
      "Epoch 45/100\n",
      "157/157 [==============================] - 0s 663us/step - loss: 0.3338 - accuracy: 0.8691\n",
      "Epoch 46/100\n",
      "157/157 [==============================] - 0s 620us/step - loss: 0.3426 - accuracy: 0.8593\n",
      "Epoch 47/100\n",
      "157/157 [==============================] - 0s 620us/step - loss: 0.3514 - accuracy: 0.8600\n",
      "Epoch 48/100\n",
      "157/157 [==============================] - 0s 700us/step - loss: 0.3461 - accuracy: 0.8599\n",
      "Epoch 49/100\n",
      "157/157 [==============================] - 0s 745us/step - loss: 0.3293 - accuracy: 0.8672\n",
      "Epoch 50/100\n",
      "157/157 [==============================] - 0s 761us/step - loss: 0.3400 - accuracy: 0.8652\n",
      "Epoch 51/100\n",
      "157/157 [==============================] - 0s 785us/step - loss: 0.3348 - accuracy: 0.8648\n",
      "Epoch 52/100\n",
      "157/157 [==============================] - 0s 659us/step - loss: 0.3452 - accuracy: 0.8584\n",
      "Epoch 53/100\n",
      "157/157 [==============================] - 0s 763us/step - loss: 0.3518 - accuracy: 0.8596\n",
      "Epoch 54/100\n",
      "157/157 [==============================] - 0s 684us/step - loss: 0.3412 - accuracy: 0.8586\n",
      "Epoch 55/100\n",
      "157/157 [==============================] - 0s 722us/step - loss: 0.3475 - accuracy: 0.8574\n",
      "Epoch 56/100\n",
      "157/157 [==============================] - 0s 710us/step - loss: 0.3398 - accuracy: 0.8664\n",
      "Epoch 57/100\n",
      "157/157 [==============================] - 0s 684us/step - loss: 0.3280 - accuracy: 0.8696\n",
      "Epoch 58/100\n",
      "157/157 [==============================] - 0s 665us/step - loss: 0.3611 - accuracy: 0.8529\n",
      "Epoch 59/100\n",
      "157/157 [==============================] - 0s 563us/step - loss: 0.3337 - accuracy: 0.8679\n",
      "Epoch 60/100\n",
      "157/157 [==============================] - 0s 563us/step - loss: 0.3474 - accuracy: 0.8566\n",
      "Epoch 61/100\n",
      "157/157 [==============================] - 0s 575us/step - loss: 0.3581 - accuracy: 0.8598\n",
      "Epoch 62/100\n",
      "157/157 [==============================] - 0s 759us/step - loss: 0.3546 - accuracy: 0.8562\n",
      "Epoch 63/100\n",
      "157/157 [==============================] - 0s 792us/step - loss: 0.3500 - accuracy: 0.8592\n",
      "Epoch 64/100\n",
      "157/157 [==============================] - 0s 588us/step - loss: 0.3372 - accuracy: 0.8628\n",
      "Epoch 65/100\n",
      "157/157 [==============================] - 0s 556us/step - loss: 0.3321 - accuracy: 0.8675\n",
      "Epoch 66/100\n",
      "157/157 [==============================] - 0s 583us/step - loss: 0.3542 - accuracy: 0.8540\n",
      "Epoch 67/100\n",
      "157/157 [==============================] - 0s 595us/step - loss: 0.3412 - accuracy: 0.8616\n",
      "Epoch 68/100\n",
      "157/157 [==============================] - 0s 617us/step - loss: 0.3327 - accuracy: 0.8663\n",
      "Epoch 69/100\n",
      "157/157 [==============================] - 0s 614us/step - loss: 0.3323 - accuracy: 0.8722\n",
      "Epoch 70/100\n",
      "157/157 [==============================] - 0s 574us/step - loss: 0.3394 - accuracy: 0.8676\n",
      "Epoch 71/100\n",
      "157/157 [==============================] - 0s 645us/step - loss: 0.3265 - accuracy: 0.8735\n",
      "Epoch 72/100\n",
      "157/157 [==============================] - 0s 626us/step - loss: 0.3416 - accuracy: 0.8633\n",
      "Epoch 73/100\n",
      "157/157 [==============================] - 0s 680us/step - loss: 0.3373 - accuracy: 0.8585\n",
      "Epoch 74/100\n",
      "157/157 [==============================] - 0s 563us/step - loss: 0.3373 - accuracy: 0.8673\n",
      "Epoch 75/100\n",
      "157/157 [==============================] - 0s 598us/step - loss: 0.3404 - accuracy: 0.8675\n",
      "Epoch 76/100\n",
      "157/157 [==============================] - 0s 645us/step - loss: 0.3436 - accuracy: 0.8595\n",
      "Epoch 77/100\n",
      "157/157 [==============================] - 0s 869us/step - loss: 0.3240 - accuracy: 0.8717\n",
      "Epoch 78/100\n",
      "157/157 [==============================] - 0s 848us/step - loss: 0.3519 - accuracy: 0.8614\n",
      "Epoch 79/100\n"
     ]
    },
    {
     "name": "stdout",
     "output_type": "stream",
     "text": [
      "157/157 [==============================] - 0s 582us/step - loss: 0.3273 - accuracy: 0.8720\n",
      "Epoch 80/100\n",
      "157/157 [==============================] - 0s 588us/step - loss: 0.3319 - accuracy: 0.8661\n",
      "Epoch 81/100\n",
      "157/157 [==============================] - 0s 750us/step - loss: 0.3453 - accuracy: 0.8613\n",
      "Epoch 82/100\n",
      "157/157 [==============================] - 0s 600us/step - loss: 0.3314 - accuracy: 0.8684\n",
      "Epoch 83/100\n",
      "157/157 [==============================] - 0s 582us/step - loss: 0.3467 - accuracy: 0.8619\n",
      "Epoch 84/100\n",
      "157/157 [==============================] - 0s 560us/step - loss: 0.3337 - accuracy: 0.8631\n",
      "Epoch 85/100\n",
      "157/157 [==============================] - 0s 575us/step - loss: 0.3428 - accuracy: 0.8654\n",
      "Epoch 86/100\n",
      "157/157 [==============================] - 0s 636us/step - loss: 0.3358 - accuracy: 0.8685\n",
      "Epoch 87/100\n",
      "157/157 [==============================] - 0s 588us/step - loss: 0.3404 - accuracy: 0.8700\n",
      "Epoch 88/100\n",
      "157/157 [==============================] - 0s 575us/step - loss: 0.3462 - accuracy: 0.8622\n",
      "Epoch 89/100\n",
      "157/157 [==============================] - 0s 563us/step - loss: 0.3413 - accuracy: 0.8629\n",
      "Epoch 90/100\n",
      "157/157 [==============================] - 0s 569us/step - loss: 0.3411 - accuracy: 0.8701\n",
      "Epoch 91/100\n",
      "157/157 [==============================] - 0s 722us/step - loss: 0.3313 - accuracy: 0.8682\n",
      "Epoch 92/100\n",
      "157/157 [==============================] - 0s 707us/step - loss: 0.3394 - accuracy: 0.8681\n",
      "Epoch 93/100\n",
      "157/157 [==============================] - 0s 629us/step - loss: 0.3238 - accuracy: 0.8759\n",
      "Epoch 94/100\n",
      "157/157 [==============================] - 0s 556us/step - loss: 0.3373 - accuracy: 0.8654\n",
      "Epoch 95/100\n",
      "157/157 [==============================] - 0s 573us/step - loss: 0.3381 - accuracy: 0.8652\n",
      "Epoch 96/100\n",
      "157/157 [==============================] - 0s 554us/step - loss: 0.3388 - accuracy: 0.8658\n",
      "Epoch 97/100\n",
      "157/157 [==============================] - 0s 556us/step - loss: 0.3261 - accuracy: 0.8713\n",
      "Epoch 98/100\n",
      "157/157 [==============================] - 0s 556us/step - loss: 0.3337 - accuracy: 0.8654\n",
      "Epoch 99/100\n",
      "157/157 [==============================] - 0s 550us/step - loss: 0.3367 - accuracy: 0.8607\n",
      "Epoch 100/100\n",
      "157/157 [==============================] - 0s 563us/step - loss: 0.3390 - accuracy: 0.8664\n"
     ]
    },
    {
     "data": {
      "text/plain": [
       "<tensorflow.python.keras.callbacks.History at 0x257c0544af0>"
      ]
     },
     "execution_count": 82,
     "metadata": {},
     "output_type": "execute_result"
    }
   ],
   "source": [
    "ann.fit(x_train,y_train,batch_size=32,epochs=100)"
   ]
  },
  {
   "cell_type": "code",
   "execution_count": 83,
   "metadata": {},
   "outputs": [
    {
     "name": "stdout",
     "output_type": "stream",
     "text": [
      "[[0.05489132]]\n"
     ]
    }
   ],
   "source": [
    "# to predict an outcome from model\n",
    "print(ann.predict(sc.transform([[1, 0, 1, 600, 1, 40, 3, 60000, 2, 1, 1, 50000]]))) #will give probability of leaving bank(sigmoid fn)"
   ]
  },
  {
   "cell_type": "code",
   "execution_count": 87,
   "metadata": {},
   "outputs": [
    {
     "name": "stdout",
     "output_type": "stream",
     "text": [
      "[[False]]\n"
     ]
    }
   ],
   "source": [
    "print(ann.predict(sc.transform([[1, 0, 1, 600, 1, 40, 3, 60000, 2, 1, 1, 50000]]))>0.5) #threshold probability"
   ]
  },
  {
   "cell_type": "markdown",
   "metadata": {},
   "source": [
    "### Predicting the Test set results"
   ]
  },
  {
   "cell_type": "code",
   "execution_count": 89,
   "metadata": {},
   "outputs": [
    {
     "name": "stdout",
     "output_type": "stream",
     "text": [
      "[[0 0]\n",
      " [0 1]\n",
      " [0 0]\n",
      " ...\n",
      " [0 0]\n",
      " [0 1]\n",
      " [0 0]]\n"
     ]
    }
   ],
   "source": [
    "y_pred=ann.predict(x_test)\n",
    "y_pred=(y_pred>0.5)\n",
    "print(np.concatenate((y_pred.reshape(len(y_pred),1),y_test.reshape(len(y_test),1)),1))"
   ]
  },
  {
   "cell_type": "markdown",
   "metadata": {},
   "source": [
    "### Confusion Matrix"
   ]
  },
  {
   "cell_type": "code",
   "execution_count": 90,
   "metadata": {},
   "outputs": [
    {
     "name": "stdout",
     "output_type": "stream",
     "text": [
      "[[3757  209]\n",
      " [ 507  527]]\n"
     ]
    },
    {
     "data": {
      "text/plain": [
       "0.8568"
      ]
     },
     "execution_count": 90,
     "metadata": {},
     "output_type": "execute_result"
    }
   ],
   "source": [
    "from sklearn.metrics import confusion_matrix, accuracy_score\n",
    "cm = confusion_matrix(y_test, y_pred)\n",
    "print(cm)\n",
    "accuracy_score(y_test, y_pred)"
   ]
  }
 ],
 "metadata": {
  "kernelspec": {
   "display_name": "Python 3",
   "language": "python",
   "name": "python3"
  },
  "language_info": {
   "codemirror_mode": {
    "name": "ipython",
    "version": 3
   },
   "file_extension": ".py",
   "mimetype": "text/x-python",
   "name": "python",
   "nbconvert_exporter": "python",
   "pygments_lexer": "ipython3",
   "version": "3.8.5"
  }
 },
 "nbformat": 4,
 "nbformat_minor": 4
}
